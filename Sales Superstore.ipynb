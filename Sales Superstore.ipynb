{
    "cells": [
        {
            "cell_type": "markdown",
            "metadata": {},
            "source": "#Description\nSales Superstore Data"
        },
        {
            "cell_type": "code",
            "execution_count": 1,
            "metadata": {},
            "outputs": [
                {
                    "data": {
                        "text/html": "<div>\n<style scoped>\n    .dataframe tbody tr th:only-of-type {\n        vertical-align: middle;\n    }\n\n    .dataframe tbody tr th {\n        vertical-align: top;\n    }\n\n    .dataframe thead th {\n        text-align: right;\n    }\n</style>\n<table border=\"1\" class=\"dataframe\">\n  <thead>\n    <tr style=\"text-align: right;\">\n      <th></th>\n      <th>Category</th>\n      <th>City</th>\n      <th>Country</th>\n      <th>Customer Name</th>\n      <th>Manufacturer</th>\n      <th>Order Date</th>\n      <th>Order ID</th>\n      <th>Postal Code</th>\n      <th>Product Name</th>\n      <th>Region</th>\n      <th>...</th>\n      <th>Ship Date</th>\n      <th>Ship Mode</th>\n      <th>State</th>\n      <th>Sub-Category</th>\n      <th>Discount</th>\n      <th>Number of Records</th>\n      <th>Profit</th>\n      <th>Profit Ratio</th>\n      <th>Quantity</th>\n      <th>Sales</th>\n    </tr>\n  </thead>\n  <tbody>\n    <tr>\n      <th>0</th>\n      <td>Office Supplies</td>\n      <td>Houston</td>\n      <td>United States</td>\n      <td>Darren Powers</td>\n      <td>Message Book</td>\n      <td>2011-01-04</td>\n      <td>CA-2011-103800</td>\n      <td>77095</td>\n      <td>Message Book, Wirebound, Four 5 1/2\" X 4\" Form...</td>\n      <td>Central</td>\n      <td>...</td>\n      <td>2011-01-08</td>\n      <td>Standard Class</td>\n      <td>Texas</td>\n      <td>Paper</td>\n      <td>0.2</td>\n      <td>1</td>\n      <td>6</td>\n      <td>0.34</td>\n      <td>2</td>\n      <td>16</td>\n    </tr>\n    <tr>\n      <th>1</th>\n      <td>Office Supplies</td>\n      <td>Naperville</td>\n      <td>United States</td>\n      <td>Phillina Ober</td>\n      <td>GBC</td>\n      <td>2011-01-05</td>\n      <td>CA-2011-112326</td>\n      <td>60540</td>\n      <td>GBC Standard Plastic Binding Systems Combs</td>\n      <td>Central</td>\n      <td>...</td>\n      <td>2011-01-09</td>\n      <td>Standard Class</td>\n      <td>Illinois</td>\n      <td>Binders</td>\n      <td>0.8</td>\n      <td>1</td>\n      <td>-5</td>\n      <td>-1.55</td>\n      <td>2</td>\n      <td>4</td>\n    </tr>\n    <tr>\n      <th>2</th>\n      <td>Office Supplies</td>\n      <td>Naperville</td>\n      <td>United States</td>\n      <td>Phillina Ober</td>\n      <td>Avery</td>\n      <td>2011-01-05</td>\n      <td>CA-2011-112326</td>\n      <td>60540</td>\n      <td>Avery 508</td>\n      <td>Central</td>\n      <td>...</td>\n      <td>2011-01-09</td>\n      <td>Standard Class</td>\n      <td>Illinois</td>\n      <td>Labels</td>\n      <td>0.2</td>\n      <td>1</td>\n      <td>4</td>\n      <td>0.36</td>\n      <td>3</td>\n      <td>12</td>\n    </tr>\n    <tr>\n      <th>3</th>\n      <td>Office Supplies</td>\n      <td>Naperville</td>\n      <td>United States</td>\n      <td>Phillina Ober</td>\n      <td>SAFCO</td>\n      <td>2011-01-05</td>\n      <td>CA-2011-112326</td>\n      <td>60540</td>\n      <td>SAFCO Boltless Steel Shelving</td>\n      <td>Central</td>\n      <td>...</td>\n      <td>2011-01-09</td>\n      <td>Standard Class</td>\n      <td>Illinois</td>\n      <td>Storage</td>\n      <td>0.2</td>\n      <td>1</td>\n      <td>-65</td>\n      <td>-0.24</td>\n      <td>3</td>\n      <td>273</td>\n    </tr>\n    <tr>\n      <th>4</th>\n      <td>Office Supplies</td>\n      <td>Philadelphia</td>\n      <td>United States</td>\n      <td>Mick Brown</td>\n      <td>Avery</td>\n      <td>2011-01-06</td>\n      <td>CA-2011-141817</td>\n      <td>19143</td>\n      <td>Avery Hi-Liter EverBold Pen Style Fluorescent ...</td>\n      <td>East</td>\n      <td>...</td>\n      <td>2011-01-13</td>\n      <td>Standard Class</td>\n      <td>Pennsylvania</td>\n      <td>Art</td>\n      <td>0.2</td>\n      <td>1</td>\n      <td>5</td>\n      <td>0.25</td>\n      <td>3</td>\n      <td>20</td>\n    </tr>\n  </tbody>\n</table>\n<p>5 rows \u00d7 21 columns</p>\n</div>",
                        "text/plain": "          Category          City        Country  Customer Name  Manufacturer  \\\n0  Office Supplies       Houston  United States  Darren Powers  Message Book   \n1  Office Supplies    Naperville  United States  Phillina Ober           GBC   \n2  Office Supplies    Naperville  United States  Phillina Ober         Avery   \n3  Office Supplies    Naperville  United States  Phillina Ober         SAFCO   \n4  Office Supplies  Philadelphia  United States     Mick Brown         Avery   \n\n  Order Date        Order ID  Postal Code  \\\n0 2011-01-04  CA-2011-103800        77095   \n1 2011-01-05  CA-2011-112326        60540   \n2 2011-01-05  CA-2011-112326        60540   \n3 2011-01-05  CA-2011-112326        60540   \n4 2011-01-06  CA-2011-141817        19143   \n\n                                        Product Name   Region  ...  Ship Date  \\\n0  Message Book, Wirebound, Four 5 1/2\" X 4\" Form...  Central  ... 2011-01-08   \n1         GBC Standard Plastic Binding Systems Combs  Central  ... 2011-01-09   \n2                                          Avery 508  Central  ... 2011-01-09   \n3                      SAFCO Boltless Steel Shelving  Central  ... 2011-01-09   \n4  Avery Hi-Liter EverBold Pen Style Fluorescent ...     East  ... 2011-01-13   \n\n        Ship Mode         State Sub-Category Discount  Number of Records  \\\n0  Standard Class         Texas        Paper      0.2                  1   \n1  Standard Class      Illinois      Binders      0.8                  1   \n2  Standard Class      Illinois       Labels      0.2                  1   \n3  Standard Class      Illinois      Storage      0.2                  1   \n4  Standard Class  Pennsylvania          Art      0.2                  1   \n\n   Profit  Profit Ratio  Quantity  Sales  \n0       6          0.34         2     16  \n1      -5         -1.55         2      4  \n2       4          0.36         3     12  \n3     -65         -0.24         3    273  \n4       5          0.25         3     20  \n\n[5 rows x 21 columns]"
                    },
                    "execution_count": 1,
                    "metadata": {},
                    "output_type": "execute_result"
                }
            ],
            "source": "# The code was removed by Watson Studio for sharing."
        },
        {
            "cell_type": "code",
            "execution_count": null,
            "metadata": {},
            "outputs": [],
            "source": ""
        }
    ],
    "metadata": {
        "kernelspec": {
            "display_name": "Python 3.6",
            "language": "python",
            "name": "python3"
        },
        "language_info": {
            "codemirror_mode": {
                "name": "ipython",
                "version": 3
            },
            "file_extension": ".py",
            "mimetype": "text/x-python",
            "name": "python",
            "nbconvert_exporter": "python",
            "pygments_lexer": "ipython3",
            "version": "3.6.9"
        }
    },
    "nbformat": 4,
    "nbformat_minor": 1
}